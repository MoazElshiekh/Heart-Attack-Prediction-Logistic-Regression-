{
 "cells": [
  {
   "cell_type": "code",
   "execution_count": 1,
   "id": "357eab73-8c41-4955-b351-076362ead23b",
   "metadata": {},
   "outputs": [
    {
     "data": {
      "text/plain": [
       "['ttrained_model_pipeline.joblib']"
      ]
     },
     "execution_count": 1,
     "metadata": {},
     "output_type": "execute_result"
    }
   ],
   "source": [
    "import pandas as pd\n",
    "import joblib\n",
    "from sklearn.model_selection import train_test_split\n",
    "from sklearn.compose import ColumnTransformer\n",
    "from sklearn.preprocessing import StandardScaler, OneHotEncoder\n",
    "from sklearn.impute import SimpleImputer\n",
    "from sklearn.linear_model import LogisticRegression\n",
    "from sklearn.pipeline import Pipeline\n",
    "\n",
    "# Load the dataset\n",
    "df = pd.read_csv('~/Downloads/heart_attack_prediction_dataset.csv')\n",
    "\n",
    "# Separate target and features\n",
    "X = df.drop('Heart Attack Risk', axis=1)\n",
    "y = df['Heart Attack Risk']\n",
    "\n",
    "# Split the data into training and testing sets\n",
    "X_train, X_test, y_train, y_test = train_test_split(X, y, test_size=0.2, random_state=42)\n",
    "\n",
    "# Handling non-numeric columns\n",
    "numeric_features = X.select_dtypes(include=['int64', 'float64']).columns.tolist()\n",
    "categorical_features = X.select_dtypes(include=['object']).columns.tolist()\n",
    "\n",
    "# Define the column transformer with an imputer for missing values\n",
    "preprocessor = ColumnTransformer(\n",
    "    transformers=[\n",
    "        ('num', Pipeline([\n",
    "            ('imputer', SimpleImputer(strategy='mean')),\n",
    "            ('scaler', StandardScaler())\n",
    "        ]), numeric_features),\n",
    "        ('cat', Pipeline([\n",
    "            ('imputer', SimpleImputer(strategy='constant', fill_value='missing')),\n",
    "            ('onehot', OneHotEncoder(handle_unknown='ignore'))\n",
    "        ]), categorical_features)\n",
    "    ])\n",
    "\n",
    "# Define the model\n",
    "model = LogisticRegression(max_iter=1000, solver='saga')\n",
    "\n",
    "# Create the pipeline\n",
    "pipeline = Pipeline(steps=[('preprocessor', preprocessor), ('classifier', model)])\n",
    "\n",
    "# Fit the pipeline\n",
    "pipeline.fit(X_train, y_train)\n",
    "\n",
    "# Save the fitted pipeline\n",
    "joblib.dump(pipeline, 'ttrained_model_pipeline.joblib')\n"
   ]
  },
  {
   "cell_type": "code",
   "execution_count": 6,
   "id": "3a15f3b1-c3e6-4877-b4dc-7955d25729b8",
   "metadata": {},
   "outputs": [
    {
     "name": "stdout",
     "output_type": "stream",
     "text": [
      "Running on local URL:  http://127.0.0.1:7863\n",
      "\n",
      "To create a public link, set `share=True` in `launch()`.\n"
     ]
    },
    {
     "data": {
      "text/html": [
       "<div><iframe src=\"http://127.0.0.1:7863/\" width=\"100%\" height=\"500\" allow=\"autoplay; camera; microphone; clipboard-read; clipboard-write;\" frameborder=\"0\" allowfullscreen></iframe></div>"
      ],
      "text/plain": [
       "<IPython.core.display.HTML object>"
      ]
     },
     "metadata": {},
     "output_type": "display_data"
    },
    {
     "data": {
      "text/plain": []
     },
     "execution_count": 6,
     "metadata": {},
     "output_type": "execute_result"
    }
   ],
   "source": [
    "import pandas as pd\n",
    "import joblib\n",
    "import gradio as gr\n",
    "\n",
    "# Load the trained model pipeline\n",
    "pipeline = joblib.load('ttrained_model_pipeline.joblib')\n",
    "\n",
    "# Define the prediction function\n",
    "def predict_heart_attack(\n",
    "        patient_id, age, sex, cholesterol, blood_pressure, heart_rate, diabetes, \n",
    "        family_history, smoking, obesity, alcohol_consumption, exercise_hours, diet, \n",
    "        previous_heart_problems, medication_use, stress_level, sedentary_hours, income, \n",
    "        bmi, triglycerides, physical_activity, sleep_hours, country, continent, hemisphere\n",
    "    ):\n",
    "    # Prepare the input data as a DataFrame\n",
    "    input_data = pd.DataFrame({\n",
    "        'Patient ID': [patient_id],\n",
    "        'Age': [age],\n",
    "        'Sex': [sex],\n",
    "        'Cholesterol': [cholesterol],\n",
    "        'Blood Pressure': [blood_pressure],\n",
    "        'Heart Rate': [heart_rate],\n",
    "        'Diabetes': [diabetes],\n",
    "        'Family History': [family_history],\n",
    "        'Smoking': [smoking],\n",
    "        'Obesity': [obesity],\n",
    "        'Alcohol Consumption': [alcohol_consumption],\n",
    "        'Exercise Hours Per Week': [exercise_hours],\n",
    "        'Diet': [diet],\n",
    "        'Previous Heart Problems': [previous_heart_problems],\n",
    "        'Medication Use': [medication_use],\n",
    "        'Stress Level': [stress_level],\n",
    "        'Sedentary Hours Per Day': [sedentary_hours],\n",
    "        'Income': [income],\n",
    "        'BMI': [bmi],\n",
    "        'Triglycerides': [triglycerides],\n",
    "        'Physical Activity Days Per Week': [physical_activity],\n",
    "        'Sleep Hours Per Day': [sleep_hours],\n",
    "        'Country': [country],\n",
    "        'Continent': [continent],\n",
    "        'Hemisphere': [hemisphere]\n",
    "    })\n",
    "\n",
    "    # Make prediction\n",
    "    prediction = pipeline.predict(input_data)\n",
    "    \n",
    "    # Return the prediction\n",
    "    return \"High Risk\" if prediction == 1 else \"Low Risk\"\n",
    "\n",
    "# Create the Gradio interface\n",
    "interface = gr.Interface(\n",
    "    fn=predict_heart_attack,\n",
    "    inputs=[\n",
    "        gr.Textbox(label=\"Patient ID\"),\n",
    "        gr.Number(label=\"Age\"),\n",
    "        gr.Radio(['Male', 'Female'], label=\"Sex\"),\n",
    "        gr.Number(label=\"Cholesterol\"),\n",
    "        gr.Textbox(label=\"Blood Pressure\"),\n",
    "        gr.Number(label=\"Heart Rate\"),\n",
    "        gr.Checkbox(label=\"Diabetes\"),\n",
    "        gr.Checkbox(label=\"Family History\"),\n",
    "        gr.Checkbox(label=\"Smoking\"),\n",
    "        gr.Checkbox(label=\"Obesity\"),\n",
    "        gr.Checkbox(label=\"Alcohol Consumption\"),\n",
    "        gr.Number(label=\"Exercise Hours Per Week\"),\n",
    "        gr.Dropdown(['Healthy', 'Average', 'Unhealthy'], label=\"Diet\"),\n",
    "        gr.Checkbox(label=\"Previous Heart Problems\"),\n",
    "        gr.Checkbox(label=\"Medication Use\"),\n",
    "        gr.Number(label=\"Stress Level\"),\n",
    "        gr.Number(label=\"Sedentary Hours Per Day\"),\n",
    "        gr.Number(label=\"Income\"),\n",
    "        gr.Number(label=\"BMI\"),\n",
    "        gr.Number(label=\"Triglycerides\"),\n",
    "        gr.Number(label=\"Physical Activity Days Per Week\"),\n",
    "        gr.Number(label=\"Sleep Hours Per Day\"),\n",
    "        gr.Textbox(label=\"Country\"),\n",
    "        gr.Textbox(label=\"Continent\"),\n",
    "        gr.Textbox(label=\"Hemisphere\")\n",
    "    ],\n",
    "    outputs=gr.Textbox(label=\"Heart Attack Risk Prediction\"),\n",
    "    title=\"Heart Attack Risk Predictor\",\n",
    "    description=\"Enter the details to predict the risk of heart attack.\"\n",
    ")\n",
    "\n",
    "# Launch the Gradio interface\n",
    "interface.launch()\n"
   ]
  },
  {
   "cell_type": "code",
   "execution_count": null,
   "id": "f86be50e-3157-4acd-9b22-2fecd42ba5cd",
   "metadata": {},
   "outputs": [],
   "source": []
  }
 ],
 "metadata": {
  "kernelspec": {
   "display_name": "Python 3 (ipykernel)",
   "language": "python",
   "name": "python3"
  },
  "language_info": {
   "codemirror_mode": {
    "name": "ipython",
    "version": 3
   },
   "file_extension": ".py",
   "mimetype": "text/x-python",
   "name": "python",
   "nbconvert_exporter": "python",
   "pygments_lexer": "ipython3",
   "version": "3.9.19"
  }
 },
 "nbformat": 4,
 "nbformat_minor": 5
}
